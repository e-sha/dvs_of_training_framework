{
 "cells": [
  {
   "cell_type": "code",
   "execution_count": null,
   "id": "251fa783",
   "metadata": {},
   "outputs": [],
   "source": [
    "experiment_name = '1_1_1'\n",
    "#step = 80200\n",
    "step = 0"
   ]
  },
  {
   "cell_type": "code",
   "execution_count": null,
   "id": "e420b6d7",
   "metadata": {},
   "outputs": [],
   "source": [
    "from pathlib import Path\n",
    "import plotly.graph_objects as go\n",
    "import yaml\n",
    "\n",
    "experiment_path = Path('../..')/Path('visualization')/experiment_name\n",
    "visualization_path = experiment_path/f'step_{step}'\n",
    "assert visualization_path.is_dir(), visualization_path.resolve()\n",
    "yml_files = visualization_path.glob('*.yml')\n",
    "all_statistics = [yaml.safe_load(x.read_text()) for x in yml_files]\n",
    "print(len(all_statistics))"
   ]
  },
  {
   "cell_type": "code",
   "execution_count": null,
   "id": "c6016a00",
   "metadata": {},
   "outputs": [],
   "source": [
    "fig = go.Figure()\n",
    "all_x_array = [x['prefix_size'] + x['suffix_size'] + x['pred_size'] for x in all_statistics]\n",
    "prefix_x_array = [x['prefix_size'] for x in all_statistics]\n",
    "pred_x_array = [x['pred_size'] for x in all_statistics]\n",
    "suffix_x_array = [x['suffix_size'] for x in all_statistics]\n",
    "y_array = [x['loss'] for x in all_statistics] \n",
    "fig.add_trace(go.Scatter(\n",
    "    x=all_x_array,\n",
    "    y=y_array,\n",
    "    name=\"All events\",       # this sets its legend entry,\n",
    "    mode='markers'\n",
    "))\n",
    "fig.add_trace(go.Scatter(\n",
    "    x=prefix_x_array,\n",
    "    y=y_array,\n",
    "    name=\"Prefix\",       # this sets its legend entry,\n",
    "    mode='markers'\n",
    "))\n",
    "fig.add_trace(go.Scatter(\n",
    "    x=pred_x_array,\n",
    "    y=y_array,\n",
    "    name=\"Predictin\",       # this sets its legend entry,\n",
    "    mode='markers'\n",
    "))\n",
    "fig.add_trace(go.Scatter(\n",
    "    x=suffix_x_array,\n",
    "    y=y_array,\n",
    "    name=\"Suffix\",       # this sets its legend entry,\n",
    "    mode='markers'\n",
    "))\n",
    "fig.update_layout(\n",
    "    title=\"Num events vs loss\",\n",
    "    xaxis_title=\"Number of events\",\n",
    "    yaxis_title=\"Loss\",\n",
    "    legend_title=\"Legend\",\n",
    "    font=dict(\n",
    "        family=\"Courier New, monospace\",\n",
    "        size=18,\n",
    "        color=\"RebeccaPurple\"\n",
    "    )\n",
    ")\n",
    "fig.show()"
   ]
  },
  {
   "cell_type": "code",
   "execution_count": null,
   "id": "340f3ea0",
   "metadata": {},
   "outputs": [],
   "source": [
    "steps = [int(x.name.split('_')[1]) for x in experiment_path.glob('step_*')]\n",
    "fig = go.Figure()\n",
    "for step in steps:\n",
    "    if step == 10000:\n",
    "        continue\n",
    "    visualization_path = experiment_path/f'step_{step}'\n",
    "    assert visualization_path.is_dir(), visualization_path.resolve()\n",
    "    yml_files = list(visualization_path.glob('*.yml'))\n",
    "    if len(yml_files) == 0:\n",
    "        continue\n",
    "    all_statistics = [yaml.safe_load(x.read_text()) for x in yml_files]\n",
    "    pred_x_array = [x['pred_size'] for x in all_statistics]\n",
    "    y_array = [x['loss'] for x in all_statistics]\n",
    "    fig.add_trace(go.Scatter(\n",
    "        x=pred_x_array,\n",
    "        y=y_array,\n",
    "        name=f\"step={step}\",       # this sets its legend entry,\n",
    "        mode='markers'\n",
    "    ))\n",
    "fig.update_layout(\n",
    "    title=\"Num events vs loss\",\n",
    "    xaxis_title=\"Number of events\",\n",
    "    yaxis_title=\"Loss\",\n",
    "    legend_title=\"Legend\",\n",
    "    font=dict(\n",
    "        family=\"Courier New, monospace\",\n",
    "        size=18,\n",
    "        color=\"RebeccaPurple\"\n",
    "    )\n",
    ")\n",
    "fig.show()"
   ]
  },
  {
   "cell_type": "code",
   "execution_count": null,
   "id": "4fbf2314",
   "metadata": {},
   "outputs": [],
   "source": []
  }
 ],
 "metadata": {
  "kernelspec": {
   "display_name": "Python 3 (ipykernel)",
   "language": "python",
   "name": "python3"
  },
  "language_info": {
   "codemirror_mode": {
    "name": "ipython",
    "version": 3
   },
   "file_extension": ".py",
   "mimetype": "text/x-python",
   "name": "python",
   "nbconvert_exporter": "python",
   "pygments_lexer": "ipython3",
   "version": "3.9.7"
  }
 },
 "nbformat": 4,
 "nbformat_minor": 5
}
