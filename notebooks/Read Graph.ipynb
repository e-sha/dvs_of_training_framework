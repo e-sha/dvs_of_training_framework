{
 "cells": [
  {
   "cell_type": "code",
   "execution_count": null,
   "id": "923adb26",
   "metadata": {},
   "outputs": [],
   "source": [
    "# read more here https://pytorch.org/docs/stable/autograd.html#function\n",
    "# https://discuss.pytorch.org/t/traversing-the-recorded-graph-manually/20454\n",
    "import torch\n",
    "\n",
    "x = torch.ones(4, requires_grad=True)\n",
    "loss = x.pow(2)\n",
    "print(loss.grad_fn)\n",
    "print(loss.grad_fn.next_functions[0])\n",
    "from inspect import getmembers\n",
    "print([x[0] for x in getmembers(loss.grad_fn)])\n",
    "print(loss.grad_fn.metadata)\n",
    "print(loss.grad_fn.name)\n",
    "print(loss.grad_fn.next_functions)\n",
    "import inspect\n",
    "print(loss.grad_fn._saved_exponent)\n",
    "print(loss.grad_fn._saved_self.data_ptr())\n",
    "print(inspect.getfullargspec(loss.grad_fn.__call__))"
   ]
  },
  {
   "cell_type": "code",
   "execution_count": null,
   "id": "26193f4d",
   "metadata": {},
   "outputs": [],
   "source": [
    "a = torch.arange(120, dtype=torch.float32).view(2, 3, 4, 5)\n",
    "model = torch.nn.Conv2d(3, 4, [3, 3])\n",
    "b = model(a)\n",
    "print(model.bias.data_ptr())\n",
    "print(model.weight.data_ptr())\n",
    "print(b.shape)\n",
    "print(b.grad_fn)\n",
    "print([x[0] for x in inspect.getmembers(b.grad_fn)])\n",
    "print(b.grad_fn._saved_weight.data_ptr())"
   ]
  },
  {
   "cell_type": "code",
   "execution_count": null,
   "id": "63aef6b0",
   "metadata": {},
   "outputs": [],
   "source": []
  }
 ],
 "metadata": {
  "kernelspec": {
   "display_name": "Python 3 (ipykernel)",
   "language": "python",
   "name": "python3"
  },
  "language_info": {
   "codemirror_mode": {
    "name": "ipython",
    "version": 3
   },
   "file_extension": ".py",
   "mimetype": "text/x-python",
   "name": "python",
   "nbconvert_exporter": "python",
   "pygments_lexer": "ipython3",
   "version": "3.9.7"
  }
 },
 "nbformat": 4,
 "nbformat_minor": 5
}
